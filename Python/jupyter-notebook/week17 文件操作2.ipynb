{
 "cells": [
  {
   "cell_type": "code",
   "execution_count": 1,
   "metadata": {},
   "outputs": [],
   "source": [
    "import os\n",
    "\n",
    "os.mkdir('d:/new0622')\n",
    "os.chdir('d:/new0622')\n",
    "\n",
    "os.makedirs('test1/test2/test3')\n"
   ]
  },
  {
   "cell_type": "code",
   "execution_count": 6,
   "metadata": {},
   "outputs": [],
   "source": [
    "with open('test1/test2/test3/1.txt', 'x') as f:\n",
    "    pass\n",
    "\n",
    "with open('test1/test2/test3/2.txt', 'x') as f:\n",
    "    pass\n",
    "\n",
    "with open('test1/test2/test3/3', 'x') as f:\n",
    "    pass"
   ]
  },
  {
   "cell_type": "code",
   "execution_count": 7,
   "metadata": {},
   "outputs": [],
   "source": [
    "filename = os.listdir('test1/test2/test3')\n",
    "\n",
    "for name in filename:\n",
    "    new_name = 'test1/test2/test3/' + name\n",
    "    os.remove(new_name)"
   ]
  },
  {
   "cell_type": "code",
   "execution_count": null,
   "metadata": {},
   "outputs": [],
   "source": []
  }
 ],
 "metadata": {
  "kernelspec": {
   "display_name": "Python 3",
   "language": "python",
   "name": "python3"
  },
  "language_info": {
   "codemirror_mode": {
    "name": "ipython",
    "version": 3
   },
   "file_extension": ".py",
   "mimetype": "text/x-python",
   "name": "python",
   "nbconvert_exporter": "python",
   "pygments_lexer": "ipython3",
   "version": "3.8.3"
  }
 },
 "nbformat": 4,
 "nbformat_minor": 4
}
