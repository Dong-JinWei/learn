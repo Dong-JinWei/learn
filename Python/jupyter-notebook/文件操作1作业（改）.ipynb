{
 "cells": [
  {
   "cell_type": "code",
   "execution_count": 49,
   "metadata": {},
   "outputs": [
    {
     "name": "stdout",
     "output_type": "stream",
     "text": [
      "签到数据导出成功！\n"
     ]
    }
   ],
   "source": [
    "import re  #导入re模块，使用正则表达式\n",
    "\n",
    "DataFile = '20200615-签到.txt'  #签到信息\n",
    "NameList = 'namelist.txt'  #班级花名册\n",
    "ResultFile = 'result.txt'  #已经签到的学生\n",
    "\n",
    "df = open(DataFile, encoding='utf-8')  #20200615-签到.txt -> 签到信息\n",
    "rf = open(ResultFile, \"a\", encoding='utf-8')  #result.txt -> 已经签到的学生\n",
    "\n",
    "nl = open(NameList, encoding='utf-8')  #打开班级名册\n",
    "\n",
    "#***********************************更新部分********************************************\n",
    "name_dict = {}  #新建一个空字典\n",
    "#将txt转换为字典\n",
    "for line in nl.readlines():\n",
    "    line = line.split()\n",
    "    k = line[0\n",
    "    v = line[1]    \n",
    "    name_dict[k] = v\n",
    "#**************************************************************************************\n",
    "\n",
    "PattId = r'\\d{2}\\s'  #判断学号的模式\n",
    "\n",
    "while(True):\n",
    "    \"\"\"思路：先用正则表达式将签到信息中的学号全部读取出来，\n",
    "            然后与班级花名册里的内容进行对比，如果学号在花名册中\n",
    "            那么，就将花名册中的学生信息保存到result.txt中。\n",
    "    \"\"\"\n",
    "    \n",
    "    line = df.readline()  #读取一行签到信息\n",
    "    MatchId = re.match(PattId, line)  #使用正则表达式判断是不是学号\n",
    "        \n",
    "    if (line == ''):  #读到EOF结束循环\n",
    "        print(\"签到数据导出成功！\")\n",
    "        break\n",
    "    \n",
    "    try:\n",
    "        IdValue = MatchId.group(0)\n",
    "        \n",
    "#***********************************更新部分********************************************\n",
    "\n",
    "        IdValue = IdValue.strip()  #删除空白字符\n",
    "        \n",
    "        if (name_dict.get(IdValue,'None') != 'None'):\n",
    "            '''在字典中查找学号，没有找到，返回None。\n",
    "                如果找到了，就将该学号和其相对应的名字写入到签到文件中\n",
    "            '''\n",
    "            rf.write(IdValue+'\\t'+name_dict[IdValue]+'\\n')\n",
    "#*******************************************************************************************\n",
    "    except:\n",
    "        continue\n",
    "        \n",
    "#关闭打开的文件      \n",
    "df.close()\n",
    "rf.close()"
   ]
  },
  {
   "cell_type": "code",
   "execution_count": 27,
   "metadata": {},
   "outputs": [],
   "source": [
    "Unsigned = 'unsigned.txt'  #没有签到的学生\n",
    "\n",
    "us = open(Unsigned, \"a\", encoding='utf-8')  #unsigned.txt ->没有签到的学生\n",
    "rf = open(ResultFile, encoding='utf-8')  #result.txt -> 已经签到的学生\n",
    "\n",
    "ReadAll = rf.read() #将已签到学生的文件流保存到变量中\n",
    "\n",
    "while True:\n",
    "    \"\"\"思路：使用花名册中的每行内容在result.txt文件中查找，\n",
    "            如果没有找到，就将该学生的信息写入到unsigned.txt文件中。\n",
    "    \"\"\"\n",
    "    line = nl.readline()  #读取花名册中的一行内容，保存到line中\n",
    "    \n",
    "    if (line == ''):\n",
    "        print(\"未签到学生数据导出成功！\")\n",
    "        break        \n",
    "    elif (ReadAll.find(line) == -1):  #在签到文件里找line，如果没有找到，证明该学生没有签到\n",
    "        us.write(line)                #那么，将这个没有签到的学生信息写入unsigned.txt文件中\n",
    "\n",
    "#关闭文件        \n",
    "us.close()\n",
    "nl.close()\n",
    "rf.close()"
   ]
  },
  {
   "cell_type": "code",
   "execution_count": 47,
   "metadata": {},
   "outputs": [
    {
     "name": "stdout",
     "output_type": "stream",
     "text": [
      "高佳龙\n"
     ]
    }
   ],
   "source": [
    "if (name_dict.get('01','None') != 'None'):\n",
    "    print(name_dict[\"01\"])"
   ]
  },
  {
   "cell_type": "code",
   "execution_count": 33,
   "metadata": {},
   "outputs": [
    {
     "name": "stdout",
     "output_type": "stream",
     "text": [
      "No Python documentation found for '刘琦'.\n",
      "Use help() to get the interactive help utility.\n",
      "Use help(str) for help on the str class.\n",
      "\n"
     ]
    }
   ],
   "source": []
  },
  {
   "cell_type": "code",
   "execution_count": null,
   "metadata": {},
   "outputs": [],
   "source": []
  }
 ],
 "metadata": {
  "kernelspec": {
   "display_name": "Python 3",
   "language": "python",
   "name": "python3"
  },
  "language_info": {
   "codemirror_mode": {
    "name": "ipython",
    "version": 3
   },
   "file_extension": ".py",
   "mimetype": "text/x-python",
   "name": "python",
   "nbconvert_exporter": "python",
   "pygments_lexer": "ipython3",
   "version": "3.8.3"
  }
 },
 "nbformat": 4,
 "nbformat_minor": 4
}
